{
 "cells": [
  {
   "cell_type": "code",
   "execution_count": 1,
   "metadata": {},
   "outputs": [],
   "source": [
    "import telegram\n",
    "from telegram.ext import Updater\n",
    "from telegram.ext import CommandHandler\n",
    "import logging\n",
    "\n",
    "%run token.py\n",
    "\n",
    "updater = Updater(token=token_id, use_context=True)\n",
    "dispatcher = updater.dispatcher"
   ]
  },
  {
   "cell_type": "code",
   "execution_count": 2,
   "metadata": {},
   "outputs": [],
   "source": [
    "logging.basicConfig(format='%(asctime)s - %(name)s - %(levelname)s - %(message)s',level=logging.INFO)"
   ]
  },
  {
   "cell_type": "code",
   "execution_count": 3,
   "metadata": {},
   "outputs": [],
   "source": [
    "start_text = '''\n",
    "    Olá! \\n\n",
    "    Sou um bot de notícias e informações sobre a Covid-19!\\n\n",
    "    O serviço de jornalismo do Instituto Oswaldo Cruz fez a triagem do conteúdo aqui.\n",
    "    Sou um bot repassador não oficial! Recebo deles e repasso para vocês.\\n\n",
    "    Não conhece o Instituto Oswaldo Cruz? \\n\n",
    "    Entre em www.ioc.fiocruz.br para conhecer! \\n\n",
    "    (Bot não-oficial administrado por Tiago Lubiana)\\n\n",
    "\n",
    "    (em desenvolvimento)\\n\"\n",
    "'''"
   ]
  },
  {
   "cell_type": "code",
   "execution_count": 4,
   "metadata": {},
   "outputs": [],
   "source": [
    "def start(update, context):\n",
    "        context.bot.send_message(chat_id=update.effective_chat.id,\n",
    "                                 text=start_text)\n",
    "        \n",
    "start_handler = CommandHandler('start', start)\n",
    "dispatcher.add_handler(start_handler)"
   ]
  },
  {
   "cell_type": "code",
   "execution_count": 5,
   "metadata": {},
   "outputs": [],
   "source": [
    "with open('15_05_2020_p1.txt', 'r') as file_1:\n",
    "        comunicado_p1 = file_1.read()\n",
    "        comunicado_parseado_p1 = comunicado_p1.split(\"--\")\n",
    "        \n",
    "try:\n",
    "    with open('15_05_2020_p2.txt', 'r') as file_2:\n",
    "            comunicado_p2 = file_2.read()\n",
    "            comunicado_parseado_p2 = comunicado_p2.split(\"--\")\n",
    "except:\n",
    "    comunicado_parseado_p2 = {}"
   ]
  },
  {
   "cell_type": "code",
   "execution_count": 6,
   "metadata": {},
   "outputs": [],
   "source": [
    "def get_header(section):\n",
    "    raw_header = section.split(\"\\n\\n\")[0]\n",
    "    header = raw_header.replace(\"\\n\", \"\")\n",
    "    header = header.replace(\"\\U0001f97c \", \"\")\n",
    "    header = header.replace(\"\\U0001f9ea\", \"\")\n",
    "    return(header)\n",
    "\n",
    "def get_section_content(section):\n",
    "    raw_content = section[1:]\n",
    "    return(raw_content)\n",
    "\n",
    "def get_header_section_dict(comunicado_parseado):\n",
    "    comunicado_headers = [get_header(section) for section in comunicado_parseado]\n",
    "    comunicado_sections = [get_section_content(section) for section in comunicado_parseado]\n",
    "    comunicado_header_to_section = dict(zip(comunicado_headers, comunicado_sections ))\n",
    "    return(comunicado_header_to_section)\n",
    "\n",
    "def get_combined_section(d1, d2, section_header,data_da_atualização):\n",
    "        try:\n",
    "            d1_section = d1[section_header]\n",
    "            d1_section = \" - Parte 1 - \" + data_da_atualização + \"\\n\\n\" + d1_section)\n",
    "        except: \n",
    "            print(\" Parte 1 ausente ou sem \" + section_header)\n",
    "            d1_section=\"\"\n",
    "        \n",
    "        try:\n",
    "            d2_section = d2[section_header]\n",
    "            d2_section = \" - Parte 2 - \" + data_da_atualização + \"\\n\\n\" + d2_section)\n",
    "        except: \n",
    "            print(\" Parte 2 ausente ou sem \" + section_header)\n",
    "            d2_section=\"\"\n",
    "            \n",
    "        combined_section = section_part_1 + \"\\n\\n\" + section_part_2  \n",
    "        \n",
    "        if combined_section = \"\" + \"\\n\\n\" + \"\":\n",
    "            combined_section = \"Seção não está presente no comunicado de hoje.\"\n",
    "\n",
    "\n",
    "def concatenatar_partes(d1, d2, possible_section_headers,data_da_atualização):\n",
    "\n",
    "    comunicado_completo_de_hoje = {}\n",
    "\n",
    "\n",
    "    for section_header in possible_section_headers:\n",
    "        \n",
    "\n",
    "        combined_section = get_combined_section\n",
    "            \n",
    "        comunicado_completo_de_hoje[section_header] = \n",
    "\n",
    "        \n",
    "    \n",
    "    \n",
    "    return(comunicado_completo_de_hoje)\n"
   ]
  },
  {
   "cell_type": "code",
   "execution_count": 7,
   "metadata": {},
   "outputs": [],
   "source": [
    "possible_section_headers= ['🏥 Ministério da Saúde','🔬 Pesquisa científica', ' Diagnóstico', '📊 Epidemiologia', '💊 Tratamento', \n",
    " '🏡 Distanciamento social', '🗂️ Política', 'Saúde Pública', '🌐 Internacional', \n",
    " '🔍 Recortes da pandemia',  '✅ Curtas', \n",
    " 'Produzido pelo Serviço de Jornalismo e Comunicação do Instituto Oswaldo Cruz (IOC/Fiocruz)']"
   ]
  },
  {
   "cell_type": "code",
   "execution_count": 8,
   "metadata": {},
   "outputs": [
    {
     "name": "stdout",
     "output_type": "stream",
     "text": [
      " Parte 2 ausente ou sem 🏥 Ministério da Saúde\n",
      " Parte 1 ausente ou sem 🔬 Pesquisa científica\n",
      " Parte 2 ausente ou sem 🔬 Pesquisa científica\n",
      " Parte 2 ausente ou sem  Diagnóstico\n",
      " Parte 2 ausente ou sem 📊 Epidemiologia\n",
      " Parte 2 ausente ou sem 💊 Tratamento\n",
      " Parte 2 ausente ou sem 🏡 Distanciamento social\n",
      " Parte 2 ausente ou sem 🗂️ Política\n",
      " Parte 2 ausente ou sem Saúde Pública\n",
      " Parte 2 ausente ou sem 🌐 Internacional\n",
      " Parte 2 ausente ou sem 🔍 Recortes da pandemia\n",
      " Parte 2 ausente ou sem ✅ Curtas\n",
      " Parte 1 ausente ou sem Produzido pelo Serviço de Jornalismo e Comunicação do Instituto Oswaldo Cruz (IOC/Fiocruz)\n",
      " Parte 2 ausente ou sem Produzido pelo Serviço de Jornalismo e Comunicação do Instituto Oswaldo Cruz (IOC/Fiocruz)\n"
     ]
    }
   ],
   "source": [
    "d1 = get_header_section_dict(comunicado_parseado_p1)\n",
    "d2  = get_header_section_dict(comunicado_parseado_p2)\n",
    "data_da_atualização = \"15 de maio de 2020\"\n",
    "\n",
    "# def concatenate_dicts(d,d1):\n",
    "comunicado_header_to_section = concatenatar_partes(d1, d2, possible_section_headers,data_da_atualização)\n"
   ]
  },
  {
   "cell_type": "code",
   "execution_count": 9,
   "metadata": {},
   "outputs": [
    {
     "data": {
      "text/plain": [
       "'📈 Balanço geral de casos\\n🇧🇷 Brasil: 211.992 casos; 14.453 mortes \\n🌎 Mundo: 4,4 milhões de casos; 304 mil mortes\\n'"
      ]
     },
     "execution_count": 9,
     "metadata": {},
     "output_type": "execute_result"
    }
   ],
   "source": [
    "if comunicado_parseado_p1[0] != \"\":\n",
    "    comunicado_header_to_section[\"Balanço\"] = comunicado_parseado_p1[0].split(\"\\n\\n\")[1]\n",
    "\n",
    "try: \n",
    "    if comunicado_parseado_p2[0] != \"\":\n",
    "        comunicado_header_to_section[\"Balanço\"] = comunicado_parseado_p2[0].split(\"\\n\\n\")[1]\n",
    "except: None\n",
    "    \n",
    "comunicado_header_to_section[\"Balanço\"] "
   ]
  },
  {
   "cell_type": "code",
   "execution_count": 10,
   "metadata": {},
   "outputs": [
    {
     "data": {
      "text/plain": [
       "dict_keys(['🏥 Ministério da Saúde', '🔬 Pesquisa científica', ' Diagnóstico', '📊 Epidemiologia', '💊 Tratamento', '🏡 Distanciamento social', '🗂️ Política', 'Saúde Pública', '🌐 Internacional', '🔍 Recortes da pandemia', '✅ Curtas', 'Produzido pelo Serviço de Jornalismo e Comunicação do Instituto Oswaldo Cruz (IOC/Fiocruz)', 'Balanço'])"
      ]
     },
     "execution_count": 10,
     "metadata": {},
     "output_type": "execute_result"
    }
   ],
   "source": [
    "comunicado_header_to_section.keys()"
   ]
  },
  {
   "cell_type": "code",
   "execution_count": 11,
   "metadata": {},
   "outputs": [
    {
     "data": {
      "text/plain": [
       "<queue.Queue at 0x7fb527c1dc50>"
      ]
     },
     "execution_count": 11,
     "metadata": {},
     "output_type": "execute_result"
    }
   ],
   "source": [
    "updater.start_polling()"
   ]
  },
  {
   "cell_type": "code",
   "execution_count": 12,
   "metadata": {},
   "outputs": [],
   "source": [
    "# Repetição de código pois não conheço tão bem o módulo telegram\n",
    "# O código grita por refatoração. \n",
    "\n",
    "\n",
    "def epid(update, context):\n",
    "    text = comunicado_header_to_section[\"📊 Epidemiologia\"]\n",
    "    context.bot.send_message(chat_id=update.effective_chat.id,\n",
    "                             text=text)\n",
    "    \n",
    "handler_for_this_call = CommandHandler('epid', epid)\n",
    "dispatcher.add_handler(handler_for_this_call)"
   ]
  },
  {
   "cell_type": "code",
   "execution_count": 13,
   "metadata": {},
   "outputs": [],
   "source": [
    "def ajuda(update, context):\n",
    "    text = '''\n",
    "    O robô possui atualmente funções para os seguintes temas\n",
    "    - 📈 Balanço geral de casos (/balan)\n",
    "    - 🏥 Ministério da Saúde (/ministerio)\n",
    "    - 💊 Tratamento (/tratamento)\n",
    "    - 📊 Epidemiologia (/epid)\n",
    "    - 🔬 Pesquisa científica (/pesquisa)\n",
    "    - Diagnóstico (/diag)\n",
    "    - 🏡 Distanciamento social (/distanciamento)\n",
    "    - 🗂️ Política (/politica)\n",
    "    - Saúde Pública (/saude)\n",
    "    - 🌐 Internacional (/internacional)\n",
    "    - 🔍 Recortes da pandemia (/recortes)\n",
    "    - ✅ Curtas (/curtas)  \n",
    "    '''\n",
    "    context.bot.send_message(chat_id=update.effective_chat.id,\n",
    "                             text=text)\n",
    "    \n",
    "ajuda_handler = CommandHandler('ajuda', ajuda)\n",
    "dispatcher.add_handler(ajuda_handler)"
   ]
  },
  {
   "cell_type": "code",
   "execution_count": 14,
   "metadata": {},
   "outputs": [],
   "source": [
    "def balan(update, context):\n",
    "    text = comunicado_header_to_section[\"Balanço\"]\n",
    "    context.bot.send_message(chat_id=update.effective_chat.id,\n",
    "                             text=text)\n",
    "    \n",
    "handler_for_this_call = CommandHandler('balan', balan)\n",
    "dispatcher.add_handler(handler_for_this_call)"
   ]
  },
  {
   "cell_type": "code",
   "execution_count": 15,
   "metadata": {},
   "outputs": [],
   "source": [
    "def diag(update, context):\n",
    "    text = comunicado_header_to_section[\" Diagnóstico\"]\n",
    "    context.bot.send_message(chat_id=update.effective_chat.id,\n",
    "                             text=text)\n",
    "    \n",
    "handler_for_this_call = CommandHandler('diag', diag)\n",
    "dispatcher.add_handler(handler_for_this_call)"
   ]
  },
  {
   "cell_type": "code",
   "execution_count": 16,
   "metadata": {},
   "outputs": [],
   "source": [
    "def politica(update, context):\n",
    "    text = comunicado_header_to_section[\"🗂️ Política\"]\n",
    "    context.bot.send_message(chat_id=update.effective_chat.id,\n",
    "                             text=text)\n",
    "    \n",
    "handler_for_this_call = CommandHandler('politica', politica)\n",
    "dispatcher.add_handler(handler_for_this_call)"
   ]
  },
  {
   "cell_type": "code",
   "execution_count": 17,
   "metadata": {},
   "outputs": [],
   "source": [
    "def internacional(update, context):\n",
    "    text = comunicado_header_to_section[\"🌐 Internacional\"]\n",
    "    context.bot.send_message(chat_id=update.effective_chat.id,\n",
    "                             text=text)\n",
    "    \n",
    "handler_for_this_call = CommandHandler('internacional', internacional)\n",
    "dispatcher.add_handler(handler_for_this_call)"
   ]
  },
  {
   "cell_type": "code",
   "execution_count": 18,
   "metadata": {},
   "outputs": [],
   "source": [
    "def recortes(update, context):\n",
    "    text = comunicado_header_to_section['🔍 Recortes da pandemia']\n",
    "    context.bot.send_message(chat_id=update.effective_chat.id,\n",
    "                             text=text)\n",
    "    \n",
    "handler_for_this_call = CommandHandler('recortes', recortes)\n",
    "dispatcher.add_handler(handler_for_this_call)"
   ]
  },
  {
   "cell_type": "code",
   "execution_count": 19,
   "metadata": {},
   "outputs": [],
   "source": [
    "def curtas(update, context):\n",
    "    text = comunicado_header_to_section['✅ Curtas']\n",
    "    context.bot.send_message(chat_id=update.effective_chat.id,\n",
    "                             text=text)\n",
    "    \n",
    "handler_for_this_call = CommandHandler('curtas', curtas)\n",
    "dispatcher.add_handler(handler_for_this_call)"
   ]
  },
  {
   "cell_type": "code",
   "execution_count": 20,
   "metadata": {},
   "outputs": [],
   "source": [
    "def distanciamento(update, context):\n",
    "    text = comunicado_header_to_section['🏡 Distanciamento social']\n",
    "    context.bot.send_message(chat_id=update.effective_chat.id,\n",
    "                             text=text)\n",
    "    \n",
    "handler_for_this_call = CommandHandler('distanciamento', distanciamento)\n",
    "dispatcher.add_handler(handler_for_this_call)"
   ]
  },
  {
   "cell_type": "code",
   "execution_count": 21,
   "metadata": {},
   "outputs": [],
   "source": [
    "def pesquisa(update, context):\n",
    "    text = comunicado_header_to_section['🔬 Pesquisa científica']\n",
    "    context.bot.send_message(chat_id=update.effective_chat.id,\n",
    "                             text=text)\n",
    "    \n",
    "handler_for_this_call = CommandHandler('pesquisa', pesquisa)\n",
    "dispatcher.add_handler(handler_for_this_call)"
   ]
  },
  {
   "cell_type": "code",
   "execution_count": 22,
   "metadata": {},
   "outputs": [],
   "source": [
    "def saude(update, context):\n",
    "    text = comunicado_header_to_section['Saúde Pública']\n",
    "    context.bot.send_message(chat_id=update.effective_chat.id,\n",
    "                             text=text)\n",
    "    \n",
    "handler_for_this_call = CommandHandler('saude', saude)\n",
    "dispatcher.add_handler(handler_for_this_call)"
   ]
  },
  {
   "cell_type": "code",
   "execution_count": 23,
   "metadata": {},
   "outputs": [],
   "source": [
    "def ministerio(update, context):\n",
    "    text = comunicado_header_to_section['🏥 Ministério da Saúde']\n",
    "    context.bot.send_message(chat_id=update.effective_chat.id,\n",
    "                             text=text)\n",
    "    \n",
    "handler_for_this_call = CommandHandler('ministerio', ministerio)\n",
    "dispatcher.add_handler(handler_for_this_call)"
   ]
  },
  {
   "cell_type": "code",
   "execution_count": 24,
   "metadata": {},
   "outputs": [],
   "source": [
    "def tratamento(update, context):\n",
    "    text = comunicado_header_to_section['💊 Tratamento']\n",
    "    context.bot.send_message(chat_id=update.effective_chat.id,\n",
    "                             text=text)\n",
    "    \n",
    "handler_for_this_call = CommandHandler('tratamento', tratamento)\n",
    "dispatcher.add_handler(handler_for_this_call)"
   ]
  },
  {
   "cell_type": "code",
   "execution_count": null,
   "metadata": {},
   "outputs": [],
   "source": []
  },
  {
   "cell_type": "code",
   "execution_count": null,
   "metadata": {},
   "outputs": [],
   "source": []
  },
  {
   "cell_type": "code",
   "execution_count": null,
   "metadata": {},
   "outputs": [],
   "source": []
  },
  {
   "cell_type": "code",
   "execution_count": null,
   "metadata": {},
   "outputs": [],
   "source": []
  },
  {
   "cell_type": "code",
   "execution_count": null,
   "metadata": {},
   "outputs": [],
   "source": []
  }
 ],
 "metadata": {
  "kernelspec": {
   "display_name": "Python 3",
   "language": "python",
   "name": "python3"
  },
  "language_info": {
   "codemirror_mode": {
    "name": "ipython",
    "version": 3
   },
   "file_extension": ".py",
   "mimetype": "text/x-python",
   "name": "python",
   "nbconvert_exporter": "python",
   "pygments_lexer": "ipython3",
   "version": "3.6.9"
  }
 },
 "nbformat": 4,
 "nbformat_minor": 4
}
