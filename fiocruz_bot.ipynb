{
 "cells": [
  {
   "cell_type": "code",
   "execution_count": 8,
   "metadata": {},
   "outputs": [],
   "source": [
    "import telegram\n",
    "from telegram.ext import Updater\n",
    "from telegram.ext import CommandHandler\n",
    "import logging\n",
    "\n",
    "%run token.py\n",
    "\n",
    "updater = Updater(token=token_id, use_context=True)\n",
    "dispatcher = updater.dispatcher"
   ]
  },
  {
   "cell_type": "code",
   "execution_count": 9,
   "metadata": {},
   "outputs": [],
   "source": [
    "logging.basicConfig(format='%(asctime)s - %(name)s - %(levelname)s - %(message)s',level=logging.INFO)"
   ]
  },
  {
   "cell_type": "code",
   "execution_count": 10,
   "metadata": {},
   "outputs": [],
   "source": [
    "start_text = '''\n",
    "    Olá! \\n\n",
    "    Sou um bot de notícias e informações sobre a Covid-19!\\n\n",
    "    O serviço de jornalismo do Instituto Oswaldo Cruz fez a triagem do conteúdo aqui.\n",
    "    Sou um bot repassador não oficial! Recebo deles e repasso para vocês.\\n\n",
    "    Não conhece o Instituto Oswaldo Cruz? \\n\n",
    "    Entre em www.ioc.fiocruz.br para conhecer! \\n\n",
    "    (Bot não-oficial administrado por Tiago Lubiana)\\n\n",
    "\n",
    "    (em desenvolvimento)\\n\"\n",
    "'''"
   ]
  },
  {
   "cell_type": "code",
   "execution_count": 11,
   "metadata": {},
   "outputs": [],
   "source": [
    "def start(update, context):\n",
    "        context.bot.send_message(chat_id=update.effective_chat.id,\n",
    "                                 text=start_text)\n",
    "        \n",
    "start_handler = CommandHandler('start', start)\n",
    "dispatcher.add_handler(start_handler)"
   ]
  },
  {
   "cell_type": "code",
   "execution_count": 12,
   "metadata": {},
   "outputs": [],
   "source": [
    "with open('14_05_2020_p1.txt', 'r') as file:\n",
    "        comunicado = file.read()\n",
    "        comunicado_parseado = comunicado.split(\"--\")"
   ]
  },
  {
   "cell_type": "code",
   "execution_count": 16,
   "metadata": {},
   "outputs": [],
   "source": [
    "def get_header(section):\n",
    "    raw_header = section.split(\"\\n\\n\")[0]\n",
    "    header = raw_header.replace(\"\\n\", \"\")\n",
    "    header = header.replace(\"\\U0001f97c \", \"\")\n",
    "    header = header.replace(\"\\U0001f9ea\", \"\")\n",
    "    return(header),\n",
    "\n",
    "def get_section_content(section):\n",
    "    raw_content = section[1:]\n",
    "    return(raw_content)"
   ]
  },
  {
   "cell_type": "code",
   "execution_count": 17,
   "metadata": {},
   "outputs": [],
   "source": [
    "comunicado_headers = [get_header(section) for section in comunicado_parseado]\n",
    "comunicado_sections = [get_section_content(section) for section in comunicado_parseado]\n",
    "comunicado_header_to_section = dict(zip(comunicado_headers, comunicado_sections ))"
   ]
  },
  {
   "cell_type": "code",
   "execution_count": 18,
   "metadata": {},
   "outputs": [
    {
     "data": {
      "text/plain": [
       "[('Destaques - 14/05/2020',),\n",
       " ('📊 Epidemiologia',),\n",
       " ('🔬 Pesquisa científica',),\n",
       " (' Diagnóstico',),\n",
       " ('🏡 Distanciamento social',),\n",
       " ('🗂️ Política',),\n",
       " ('Saúde Pública',),\n",
       " ('🌐 Internacional',),\n",
       " ('🔍 Recortes da pandemia',),\n",
       " ('✅ Curtas',),\n",
       " ('Produzido pelo Serviço de Jornalismo e Comunicação do Instituto Oswaldo Cruz (IOC/Fiocruz)',)]"
      ]
     },
     "execution_count": 18,
     "metadata": {},
     "output_type": "execute_result"
    }
   ],
   "source": [
    "comunicado_headers"
   ]
  },
  {
   "cell_type": "code",
   "execution_count": null,
   "metadata": {},
   "outputs": [],
   "source": []
  }
 ],
 "metadata": {
  "kernelspec": {
   "display_name": "Python 3",
   "language": "python",
   "name": "python3"
  },
  "language_info": {
   "codemirror_mode": {
    "name": "ipython",
    "version": 3
   },
   "file_extension": ".py",
   "mimetype": "text/x-python",
   "name": "python",
   "nbconvert_exporter": "python",
   "pygments_lexer": "ipython3",
   "version": "3.6.9"
  }
 },
 "nbformat": 4,
 "nbformat_minor": 4
}
