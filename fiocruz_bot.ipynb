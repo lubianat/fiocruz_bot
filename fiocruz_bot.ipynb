{
 "cells": [
  {
   "cell_type": "code",
   "execution_count": null,
   "metadata": {},
   "outputs": [],
   "source": [
    "import telegram\n",
    "from telegram.ext import Updater\n",
    "from telegram.ext import CommandHandler\n",
    "import logging\n",
    "\n",
    "%run token.py\n",
    "\n",
    "updater = Updater(token=token_id, use_context=True)\n",
    "dispatcher = updater.dispatcher"
   ]
  },
  {
   "cell_type": "code",
   "execution_count": null,
   "metadata": {},
   "outputs": [],
   "source": [
    "logging.basicConfig(format='%(asctime)s - %(name)s - %(levelname)s - %(message)s',level=logging.INFO)"
   ]
  },
  {
   "cell_type": "code",
   "execution_count": null,
   "metadata": {},
   "outputs": [],
   "source": [
    "start_text = '''\n",
    "    Olá! \\n\n",
    "    Sou um bot de notícias e informações sobre a Covid-19!\\n\n",
    "    O serviço de jornalismo do Instituto Oswaldo Cruz fez a triagem do conteúdo aqui.\n",
    "    Sou um bot repassador não oficial! Recebo deles e repasso para vocês.\\n\n",
    "    Não conhece o Instituto Oswaldo Cruz? \\n\n",
    "    Entre em www.ioc.fiocruz.br para conhecer! \\n\n",
    "    (Bot não-oficial administrado por Tiago Lubiana)\\n\n",
    "\n",
    "    (em desenvolvimento)\\n\"\n",
    "'''"
   ]
  },
  {
   "cell_type": "code",
   "execution_count": null,
   "metadata": {},
   "outputs": [],
   "source": [
    "def start(update, context):\n",
    "        context.bot.send_message(chat_id=update.effective_chat.id,\n",
    "                                 text=start_text)\n",
    "        \n",
    "start_handler = CommandHandler('start', start)\n",
    "dispatcher.add_handler(start_handler)"
   ]
  },
  {
   "cell_type": "code",
   "execution_count": null,
   "metadata": {},
   "outputs": [],
   "source": [
    "with open('14_05_2020_p1.txt', 'r') as file:\n",
    "        comunicado = file.read()\n",
    "        comunicado_parseado = comunicado.split(\"--\")"
   ]
  },
  {
   "cell_type": "code",
   "execution_count": null,
   "metadata": {},
   "outputs": [],
   "source": [
    "def get_header(section):\n",
    "    raw_header = section.split(\"\\n\\n\")[0]\n",
    "    header = raw_header.replace(\"\\n\", \"\")\n",
    "    header = header.replace(\"\\U0001f97c \", \"\")\n",
    "    header = header.replace(\"\\U0001f9ea\", \"\")\n",
    "    header = header.replace(\"🔬 \", \"\")\n",
    "    return(header),\n",
    "\n",
    "def get_section_content(section):\n",
    "    raw_content = section[1:]\n",
    "    return(raw_content)"
   ]
  },
  {
   "cell_type": "code",
   "execution_count": null,
   "metadata": {},
   "outputs": [],
   "source": [
    "comunicado_headers = [get_header(section) for section in comunicado_parseado]\n",
    "comunicado_sections = [get_section_content(section) for section in comunicado_parseado]\n",
    "comunicado_header_to_section = dict(zip(comunicado_headers, comunicado_sections ))"
   ]
  },
  {
   "cell_type": "code",
   "execution_count": null,
   "metadata": {},
   "outputs": [],
   "source": [
    "comunicado_headers"
   ]
  },
  {
   "cell_type": "code",
   "execution_count": 9,
   "metadata": {},
   "outputs": [
    {
     "data": {
      "text/plain": [
       "<queue.Queue at 0x7fd8adfbfd30>"
      ]
     },
     "execution_count": 9,
     "metadata": {},
     "output_type": "execute_result"
    }
   ],
   "source": [
    "updater.start_polling()"
   ]
  },
  {
   "cell_type": "code",
   "execution_count": 10,
   "metadata": {},
   "outputs": [],
   "source": [
    "# Repetição de código pois não conheço tão bem o módulo telegram\n",
    "# O código grita por refatoração. \n",
    "\n",
    "\n",
    "def epid(update, context):\n",
    "    text = comunicado_header_to_section[\"📊 Epidemiologia\"],\n",
    "    context.bot.send_message(chat_id=update.effective_chat.id,\n",
    "                             text=text)\n",
    "    \n",
    "handler_for_this_call = CommandHandler('epid', epid)\n",
    "dispatcher.add_handler(handler_for_this_call)"
   ]
  },
  {
   "cell_type": "code",
   "execution_count": 11,
   "metadata": {},
   "outputs": [],
   "source": [
    "def ajuda(update, context):\n",
    "    text = '''\n",
    "    O robô possui atualmente funções para os seguintes temas\n",
    "    - 📊 Epidemiologia (/epid)\n",
    "    - 🔬 Pesquisa científica (/pesquisa)\n",
    "    - Diagnóstico (/diag)\n",
    "    - 🏡 Distanciamento social (/distanciamento)\n",
    "    - 🗂️ Política (/politica)\n",
    "    - Saúde Pública (/saude)\n",
    "    - 🌐 Internacional (/internacional)\n",
    "    - 🔍 Recortes da pandemia (/recortes)\n",
    "    - ✅ Curtas (/curtas)  \n",
    "    '''\n",
    "    context.bot.send_message(chat_id=update.effective_chat.id,\n",
    "                             text=text)\n",
    "    \n",
    "handler_for_this_call = CommandHandler('ajuda1', ajuda)\n",
    "dispatcher.add_handler(handler_for_this_call)"
   ]
  },
  {
   "cell_type": "code",
   "execution_count": 12,
   "metadata": {},
   "outputs": [],
   "source": [
    "def internacional(update, context):\n",
    "    text = comunicado_header_to_section['🌐 Internacional'],\n",
    "    context.bot.send_message(chat_id=update.effective_chat.id,\n",
    "                             text=text)\n",
    "    \n",
    "handler_for_this_call = CommandHandler('internacional', internacional)\n",
    "dispatcher.add_handler(handler_for_this_call)"
   ]
  },
  {
   "cell_type": "code",
   "execution_count": 13,
   "metadata": {},
   "outputs": [],
   "source": [
    "def recortes(update, context):\n",
    "    text = comunicado_header_to_section['🔍 Recortes da pandemia'],\n",
    "    context.bot.send_message(chat_id=update.effective_chat.id,\n",
    "                             text=text)\n",
    "    \n",
    "handler_for_this_call = CommandHandler('recortes', recortes)\n",
    "dispatcher.add_handler(handler_for_this_call)"
   ]
  },
  {
   "cell_type": "code",
   "execution_count": 14,
   "metadata": {},
   "outputs": [],
   "source": [
    "def curtas(update, context):\n",
    "    text = comunicado_header_to_section['✅ Curtas'],\n",
    "    context.bot.send_message(chat_id=update.effective_chat.id,\n",
    "                             text=text)\n",
    "    \n",
    "handler_for_this_call = CommandHandler('curtas', curtas)\n",
    "dispatcher.add_handler(handler_for_this_call)"
   ]
  },
  {
   "cell_type": "code",
   "execution_count": 15,
   "metadata": {},
   "outputs": [],
   "source": [
    "def distanciamento(update, context):\n",
    "    text = comunicado_header_to_section['🏡 Distanciamento social'],\n",
    "    context.bot.send_message(chat_id=update.effective_chat.id,\n",
    "                             text=text)\n",
    "    \n",
    "handler_for_this_call = CommandHandler('distanciamento', distanciamento)\n",
    "dispatcher.add_handler(handler_for_this_call)"
   ]
  },
  {
   "cell_type": "code",
   "execution_count": 16,
   "metadata": {},
   "outputs": [],
   "source": [
    "def pesquisa(update, context):\n",
    "    text = comunicado_header_to_section['Pesquisa científica'],\n",
    "    context.bot.send_message(chat_id=update.effective_chat.id,\n",
    "                             text=text)\n",
    "    \n",
    "handler_for_this_call = CommandHandler('pesquisa', pesquisa)\n",
    "dispatcher.add_handler(handler_for_this_call)"
   ]
  },
  {
   "cell_type": "code",
   "execution_count": 18,
   "metadata": {},
   "outputs": [
    {
     "name": "stderr",
     "output_type": "stream",
     "text": [
      "2020-05-15 11:51:01,745 - telegram.ext.dispatcher - ERROR - No error handlers are registered, logging exception.\n",
      "Traceback (most recent call last):\n",
      "  File \"/home/lubianat/.local/lib/python3.6/site-packages/telegram/ext/dispatcher.py\", line 343, in process_update\n",
      "    handler.handle_update(update, self, check, context)\n",
      "  File \"/home/lubianat/.local/lib/python3.6/site-packages/telegram/ext/handler.py\", line 119, in handle_update\n",
      "    return self.callback(update, context)\n",
      "  File \"<ipython-input-16-b0900571c7fd>\", line 2, in pesquisa\n",
      "    text = comunicado_header_to_section['🔬 Pesquisa científica'],\n",
      "KeyError: '🔬 Pesquisa científica'\n"
     ]
    }
   ],
   "source": [
    "def saude(update, context):\n",
    "    text = comunicado_header_to_section['Saúde Pública'],\n",
    "    context.bot.send_message(chat_id=update.effective_chat.id,\n",
    "                             text=text)\n",
    "    \n",
    "handler_for_this_call = CommandHandler('saude', saude)\n",
    "dispatcher.add_handler(handler_for_this_call)"
   ]
  },
  {
   "cell_type": "code",
   "execution_count": 21,
   "metadata": {},
   "outputs": [
    {
     "ename": "KeyError",
     "evalue": "'🔬 Pesquisa científica'",
     "output_type": "error",
     "traceback": [
      "\u001b[0;31m------------------------------------\u001b[0m",
      "\u001b[0;31mKeyError\u001b[0mTraceback (most recent call last)",
      "\u001b[0;32m<ipython-input-21-3f1e3b7b899c>\u001b[0m in \u001b[0;36m<module>\u001b[0;34m\u001b[0m\n\u001b[0;32m----> 1\u001b[0;31m \u001b[0mcomunicado_header_to_section\u001b[0m\u001b[0;34m[\u001b[0m\u001b[0;34m'🔬 Pesquisa científica'\u001b[0m\u001b[0;34m]\u001b[0m\u001b[0;34m\u001b[0m\u001b[0;34m\u001b[0m\u001b[0m\n\u001b[0m",
      "\u001b[0;31mKeyError\u001b[0m: '🔬 Pesquisa científica'"
     ]
    }
   ],
   "source": [
    "comunicado_header_to_section['🔬 Pesquisa científica']\n"
   ]
  },
  {
   "cell_type": "code",
   "execution_count": null,
   "metadata": {},
   "outputs": [],
   "source": []
  }
 ],
 "metadata": {
  "kernelspec": {
   "display_name": "Python 3",
   "language": "python",
   "name": "python3"
  },
  "language_info": {
   "codemirror_mode": {
    "name": "ipython",
    "version": 3
   },
   "file_extension": ".py",
   "mimetype": "text/x-python",
   "name": "python",
   "nbconvert_exporter": "python",
   "pygments_lexer": "ipython3",
   "version": "3.6.9"
  }
 },
 "nbformat": 4,
 "nbformat_minor": 4
}
