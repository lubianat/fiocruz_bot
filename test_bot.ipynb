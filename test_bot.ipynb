{
 "cells": [
  {
   "cell_type": "code",
   "execution_count": 1,
   "metadata": {},
   "outputs": [],
   "source": [
    "import telegram"
   ]
  },
  {
   "cell_type": "code",
   "execution_count": 2,
   "metadata": {},
   "outputs": [],
   "source": [
    "%run token.py"
   ]
  },
  {
   "cell_type": "code",
   "execution_count": 3,
   "metadata": {},
   "outputs": [],
   "source": [
    "from telegram.ext import Updater\n",
    "updater = Updater(token=token_id, use_context=True)"
   ]
  },
  {
   "cell_type": "code",
   "execution_count": 4,
   "metadata": {},
   "outputs": [],
   "source": [
    "dispatcher = updater.dispatcher"
   ]
  },
  {
   "cell_type": "code",
   "execution_count": 5,
   "metadata": {},
   "outputs": [],
   "source": [
    "import logging\n",
    "logging.basicConfig(format='%(asctime)s - %(name)s - %(levelname)s - %(message)s',\n",
    "                     level=logging.INFO)"
   ]
  },
  {
   "cell_type": "code",
   "execution_count": 6,
   "metadata": {},
   "outputs": [],
   "source": [
    "start_text = '''\n",
    "\n",
    "Olá! \n",
    "Sou um bot de notícias e informações sobre a Covid-19!\n",
    "\n",
    "O serviço de jornalismo do Instituto Oswaldo Cruz fez a triagem do conteúdo aqui.\n",
    "Sou um bot repassador não oficial! Recebo deles e repasso para vocês.\n",
    "\n",
    "\n",
    "Não conhece o Instituto Oswaldo Cruz? \n",
    "Entre em www.ioc.fiocruz.br para conhecer! \n",
    "\n",
    "(Bot não-oficial administrado por Tiago Lubiana)\n",
    "\n",
    "(em desenvolvimento)\n",
    "\n",
    "\n",
    "'''"
   ]
  },
  {
   "cell_type": "code",
   "execution_count": 7,
   "metadata": {},
   "outputs": [],
   "source": [
    "def start(update, context):\n",
    "    context.bot.send_message(chat_id=update.effective_chat.id,\n",
    "                             text=start_text)"
   ]
  },
  {
   "cell_type": "code",
   "execution_count": 8,
   "metadata": {},
   "outputs": [],
   "source": [
    "from telegram.ext import CommandHandler\n",
    "start_handler = CommandHandler('start', start)\n",
    "dispatcher.add_handler(start_handler)"
   ]
  },
  {
   "cell_type": "code",
   "execution_count": 9,
   "metadata": {},
   "outputs": [
    {
     "data": {
      "text/plain": [
       "<queue.Queue at 0x7fc95a3398d0>"
      ]
     },
     "execution_count": 9,
     "metadata": {},
     "output_type": "execute_result"
    }
   ],
   "source": [
    "updater.start_polling()"
   ]
  },
  {
   "cell_type": "code",
   "execution_count": 10,
   "metadata": {},
   "outputs": [],
   "source": [
    "balanco_geral = '''Destaques - 14/05/2020\n",
    "\n",
    "📈 Balanço geral de casos\n",
    "🇧🇷 Brasil: 192.282 casos; 13.280 mortes \n",
    "🌎 Mundo: 4,3 milhões de casos; 298 mil mortes'''\n",
    "\n",
    "\n",
    "def covid_1(update, context):\n",
    "   context.bot.send_message(chat_id=update.effective_chat.id,\n",
    "                            text=balanco_geral)\n",
    "\n",
    "\n",
    "caps_handler = CommandHandler('covid', covid_1)\n",
    "dispatcher.add_handler(caps_handler)"
   ]
  }
 ],
 "metadata": {
  "kernelspec": {
   "display_name": "Python 3",
   "language": "python",
   "name": "python3"
  },
  "language_info": {
   "codemirror_mode": {
    "name": "ipython",
    "version": 3
   },
   "file_extension": ".py",
   "mimetype": "text/x-python",
   "name": "python",
   "nbconvert_exporter": "python",
   "pygments_lexer": "ipython3",
   "version": "3.6.9"
  }
 },
 "nbformat": 4,
 "nbformat_minor": 4
}
